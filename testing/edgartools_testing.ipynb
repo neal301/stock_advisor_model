{
 "cells": [
  {
   "cell_type": "code",
   "execution_count": 10,
   "metadata": {},
   "outputs": [],
   "source": [
    "from edgar import set_identity\n",
    "import pandas as pd\n",
    "import time\n",
    "from edgar import *"
   ]
  },
  {
   "cell_type": "code",
   "execution_count": 2,
   "metadata": {},
   "outputs": [
    {
     "data": {
      "text/html": [
       "<pre style=\"white-space:pre;overflow-x:auto;line-height:normal;font-family:Menlo,'DejaVu Sans Mono',consolas,'Courier New',monospace\"><span style=\"color: #7fbfbf; text-decoration-color: #7fbfbf\">[16:34:16] </span><span style=\"color: #000080; text-decoration-color: #000080\">INFO    </span> Identity of the Edgar REST client set to <span style=\"font-weight: bold\">[</span>Neal Lockhart nhl3388@uncw.edu<span style=\"font-weight: bold\">]</span>           <a href=\"file:///home/neal/nealsfiles/stock_rag/stock_advisor_model/venv/lib/python3.10/site-packages/edgar/core.py\" target=\"_blank\"><span style=\"color: #7f7f7f; text-decoration-color: #7f7f7f\">core.py</span></a><span style=\"color: #7f7f7f; text-decoration-color: #7f7f7f\">:</span><a href=\"file:///home/neal/nealsfiles/stock_rag/stock_advisor_model/venv/lib/python3.10/site-packages/edgar/core.py#161\" target=\"_blank\"><span style=\"color: #7f7f7f; text-decoration-color: #7f7f7f\">161</span></a>\n",
       "</pre>\n"
      ],
      "text/plain": [
       "\u001b[2;36m[16:34:16]\u001b[0m\u001b[2;36m \u001b[0m\u001b[34mINFO    \u001b[0m Identity of the Edgar REST client set to \u001b[1m[\u001b[0mNeal Lockhart nhl3388@uncw.edu\u001b[1m]\u001b[0m           \u001b]8;id=557931;file:///home/neal/nealsfiles/stock_rag/stock_advisor_model/venv/lib/python3.10/site-packages/edgar/core.py\u001b\\\u001b[2mcore.py\u001b[0m\u001b]8;;\u001b\\\u001b[2m:\u001b[0m\u001b]8;id=504166;file:///home/neal/nealsfiles/stock_rag/stock_advisor_model/venv/lib/python3.10/site-packages/edgar/core.py#161\u001b\\\u001b[2m161\u001b[0m\u001b]8;;\u001b\\\n"
      ]
     },
     "metadata": {},
     "output_type": "display_data"
    }
   ],
   "source": [
    "# must be set to comply with SEC regulations\n",
    "\n",
    "set_identity(\"Neal Lockhart nhl3388@uncw.edu\")"
   ]
  },
  {
   "cell_type": "code",
   "execution_count": 3,
   "metadata": {},
   "outputs": [],
   "source": [
    "companies = ['HUBS', 'SNOW', 'CRWD', 'ZS', 'NET', 'AMD', 'NVDA', 'BASE', 'NOW', 'S']"
   ]
  },
  {
   "cell_type": "markdown",
   "metadata": {},
   "source": [
    "### Risks"
   ]
  },
  {
   "cell_type": "code",
   "execution_count": 16,
   "metadata": {},
   "outputs": [],
   "source": [
    "def get_risk_section(companies: list):\n",
    "\n",
    "    data = {\n",
    "        \"ticker\": [],\n",
    "        \"chunked_risk\": []\n",
    "    }\n",
    "    \n",
    "    for company in companies:\n",
    "        time.sleep(.1)\n",
    "        tenk = Company(company).get_filings(form=\"10-K\").latest(1)\n",
    "        raw_chunked_tenk = tenk.sections()\n",
    "        index_start = None\n",
    "        index_end = None\n",
    "        \n",
    "        for i in range(len(raw_chunked_tenk)):\n",
    "            if re.search(r\"item 1a.\\s*risk factors\", raw_chunked_tenk[i].lower()):\n",
    "                index_start=i\n",
    "            elif re.search(r\"item 1b.\\s*unresolved\", raw_chunked_tenk[i].lower()):\n",
    "                index_end=i\n",
    "                break\n",
    "\n",
    "        if index_start is None or index_end is None:\n",
    "            print(\"Warning: Could not find risk section for\", company)\n",
    "            continue\n",
    "        \n",
    "        risks = raw_chunked_tenk[index_start:index_end]\n",
    "\n",
    "        for i in range(len(risks)):\n",
    "            risks[i] = risks[i].lower()\n",
    "            risks[i] = risks[i].replace(\"\\n\",\" \")\n",
    "            risks[i] = risks[i].replace(\"•\", \" \")\n",
    "            risks[i] = risks[i].replace(\"table of contents\",\"\")\n",
    "            \n",
    "            data['ticker'].append(company)\n",
    "            data['chunked_risk'].append(risks[i])\n",
    "\n",
    "    return pd.DataFrame(data)"
   ]
  },
  {
   "cell_type": "markdown",
   "metadata": {},
   "source": [
    "### Management's Discussion"
   ]
  },
  {
   "cell_type": "code",
   "execution_count": 40,
   "metadata": {},
   "outputs": [],
   "source": [
    "def get_mgmt_discussion_section(companies: list):\n",
    "\n",
    "    data = {\n",
    "        \"ticker\": [],\n",
    "        \"chunked_mgmt_discussion\": []\n",
    "    }\n",
    "    \n",
    "    for company in companies:\n",
    "        time.sleep(.1)\n",
    "        tenk = Company(company).get_filings(form=\"10-K\").latest(1)\n",
    "        raw_chunked_tenk = tenk.sections()\n",
    "        index_start = None\n",
    "        index_end = None\n",
    "        \n",
    "        for i in range(len(raw_chunked_tenk)):\n",
    "            if re.search(r\"item 7.\\s*management\", raw_chunked_tenk[i].lower()):\n",
    "                index_start=i\n",
    "            elif re.search(r\"item 7a.\\s*(qualitative|quantitative)\", raw_chunked_tenk[i].lower()):\n",
    "                index_end=i\n",
    "                break\n",
    "\n",
    "        if index_start is None or index_end is None:\n",
    "            print(\"Warning: Could not find management's discussion section for\", company)\n",
    "            continue\n",
    "        \n",
    "        mgmt_discussion = raw_chunked_tenk[index_start:index_end]\n",
    "\n",
    "        for i in range(len(mgmt_discussion)):\n",
    "            mgmt_discussion[i] = mgmt_discussion[i].lower()\n",
    "            mgmt_discussion[i] = mgmt_discussion[i].replace(\"\\n\",\" \")\n",
    "            mgmt_discussion[i] = mgmt_discussion[i].replace(\"•\", \" \")\n",
    "            mgmt_discussion[i] = mgmt_discussion[i].replace(\"table of contents\",\"\")\n",
    "            mgmt_discussion[i] = \" \".join(mgmt_discussion[i].split())\n",
    "            \n",
    "            data['ticker'].append(company)\n",
    "            data['chunked_mgmt_discussion'].append(mgmt_discussion[i])\n",
    "\n",
    "    return pd.DataFrame(data)"
   ]
  },
  {
   "cell_type": "code",
   "execution_count": 41,
   "metadata": {},
   "outputs": [],
   "source": [
    "df = get_mgmt_discussion_section(companies)"
   ]
  },
  {
   "cell_type": "code",
   "execution_count": 42,
   "metadata": {},
   "outputs": [
    {
     "data": {
      "text/html": [
       "<div>\n",
       "<style scoped>\n",
       "    .dataframe tbody tr th:only-of-type {\n",
       "        vertical-align: middle;\n",
       "    }\n",
       "\n",
       "    .dataframe tbody tr th {\n",
       "        vertical-align: top;\n",
       "    }\n",
       "\n",
       "    .dataframe thead th {\n",
       "        text-align: right;\n",
       "    }\n",
       "</style>\n",
       "<table border=\"1\" class=\"dataframe\">\n",
       "  <thead>\n",
       "    <tr style=\"text-align: right;\">\n",
       "      <th></th>\n",
       "      <th>ticker</th>\n",
       "      <th>chunked_mgmt_discussion</th>\n",
       "    </tr>\n",
       "  </thead>\n",
       "  <tbody>\n",
       "    <tr>\n",
       "      <th>0</th>\n",
       "      <td>HUBS</td>\n",
       "      <td>item 7. management’s discussion and analysis o...</td>\n",
       "    </tr>\n",
       "    <tr>\n",
       "      <th>1</th>\n",
       "      <td>HUBS</td>\n",
       "      <td>the following discussion and analysis of our f...</td>\n",
       "    </tr>\n",
       "    <tr>\n",
       "      <th>2</th>\n",
       "      <td>HUBS</td>\n",
       "      <td>company overview we provide a customer platfor...</td>\n",
       "    </tr>\n",
       "    <tr>\n",
       "      <th>3</th>\n",
       "      <td>HUBS</td>\n",
       "      <td>our engagement hubs include marketing hub, sal...</td>\n",
       "    </tr>\n",
       "    <tr>\n",
       "      <th>4</th>\n",
       "      <td>HUBS</td>\n",
       "      <td>global economic conditions our results of oper...</td>\n",
       "    </tr>\n",
       "    <tr>\n",
       "      <th>...</th>\n",
       "      <td>...</td>\n",
       "      <td>...</td>\n",
       "    </tr>\n",
       "    <tr>\n",
       "      <th>551</th>\n",
       "      <td>S</td>\n",
       "      <td>operating activities our largest source of ope...</td>\n",
       "    </tr>\n",
       "    <tr>\n",
       "      <th>552</th>\n",
       "      <td>S</td>\n",
       "      <td>our purchase obligations as of january 31, 202...</td>\n",
       "    </tr>\n",
       "    <tr>\n",
       "      <th>553</th>\n",
       "      <td>S</td>\n",
       "      <td>off-balance sheet arrangements we did not have...</td>\n",
       "    </tr>\n",
       "    <tr>\n",
       "      <th>554</th>\n",
       "      <td>S</td>\n",
       "      <td>the critical accounting policies requiring est...</td>\n",
       "    </tr>\n",
       "    <tr>\n",
       "      <th>555</th>\n",
       "      <td>S</td>\n",
       "      <td>revenue recognition we recognize revenue in ac...</td>\n",
       "    </tr>\n",
       "  </tbody>\n",
       "</table>\n",
       "<p>556 rows × 2 columns</p>\n",
       "</div>"
      ],
      "text/plain": [
       "    ticker                            chunked_mgmt_discussion\n",
       "0     HUBS  item 7. management’s discussion and analysis o...\n",
       "1     HUBS  the following discussion and analysis of our f...\n",
       "2     HUBS  company overview we provide a customer platfor...\n",
       "3     HUBS  our engagement hubs include marketing hub, sal...\n",
       "4     HUBS  global economic conditions our results of oper...\n",
       "..     ...                                                ...\n",
       "551      S  operating activities our largest source of ope...\n",
       "552      S  our purchase obligations as of january 31, 202...\n",
       "553      S  off-balance sheet arrangements we did not have...\n",
       "554      S  the critical accounting policies requiring est...\n",
       "555      S  revenue recognition we recognize revenue in ac...\n",
       "\n",
       "[556 rows x 2 columns]"
      ]
     },
     "execution_count": 42,
     "metadata": {},
     "output_type": "execute_result"
    }
   ],
   "source": [
    "df"
   ]
  },
  {
   "cell_type": "code",
   "execution_count": 43,
   "metadata": {},
   "outputs": [],
   "source": [
    "df.to_csv(\"../data/mgmt_discussion.csv\", index=False)"
   ]
  },
  {
   "cell_type": "code",
   "execution_count": null,
   "metadata": {},
   "outputs": [],
   "source": []
  }
 ],
 "metadata": {
  "kernelspec": {
   "display_name": "venv",
   "language": "python",
   "name": "python3"
  },
  "language_info": {
   "codemirror_mode": {
    "name": "ipython",
    "version": 3
   },
   "file_extension": ".py",
   "mimetype": "text/x-python",
   "name": "python",
   "nbconvert_exporter": "python",
   "pygments_lexer": "ipython3",
   "version": "3.10.12"
  }
 },
 "nbformat": 4,
 "nbformat_minor": 2
}
