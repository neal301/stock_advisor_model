{
 "cells": [
  {
   "cell_type": "code",
   "execution_count": 6,
   "metadata": {},
   "outputs": [],
   "source": [
    "from edgar import *\n",
    "from edgar import set_identity\n",
    "from bs4 import BeautifulSoup\n",
    "import time"
   ]
  },
  {
   "cell_type": "code",
   "execution_count": 4,
   "metadata": {},
   "outputs": [
    {
     "data": {
      "text/html": [
       "<pre style=\"white-space:pre;overflow-x:auto;line-height:normal;font-family:Menlo,'DejaVu Sans Mono',consolas,'Courier New',monospace\"><span style=\"color: #7fbfbf; text-decoration-color: #7fbfbf\">[18:27:54] </span><span style=\"color: #000080; text-decoration-color: #000080\">INFO    </span> Identity of the Edgar REST client set to <span style=\"font-weight: bold\">[</span>Neal Lockhart nhl3388@uncw.edu<span style=\"font-weight: bold\">]</span>           <a href=\"file:///home/neal/nealsfiles/stock_rag/stock_advisor_model/venv/lib/python3.12/site-packages/edgar/core.py\" target=\"_blank\"><span style=\"color: #7f7f7f; text-decoration-color: #7f7f7f\">core.py</span></a><span style=\"color: #7f7f7f; text-decoration-color: #7f7f7f\">:</span><a href=\"file:///home/neal/nealsfiles/stock_rag/stock_advisor_model/venv/lib/python3.12/site-packages/edgar/core.py#161\" target=\"_blank\"><span style=\"color: #7f7f7f; text-decoration-color: #7f7f7f\">161</span></a>\n",
       "</pre>\n"
      ],
      "text/plain": [
       "\u001b[2;36m[18:27:54]\u001b[0m\u001b[2;36m \u001b[0m\u001b[34mINFO    \u001b[0m Identity of the Edgar REST client set to \u001b[1m[\u001b[0mNeal Lockhart nhl3388@uncw.edu\u001b[1m]\u001b[0m           \u001b]8;id=822521;file:///home/neal/nealsfiles/stock_rag/stock_advisor_model/venv/lib/python3.12/site-packages/edgar/core.py\u001b\\\u001b[2mcore.py\u001b[0m\u001b]8;;\u001b\\\u001b[2m:\u001b[0m\u001b]8;id=391614;file:///home/neal/nealsfiles/stock_rag/stock_advisor_model/venv/lib/python3.12/site-packages/edgar/core.py#161\u001b\\\u001b[2m161\u001b[0m\u001b]8;;\u001b\\\n"
      ]
     },
     "metadata": {},
     "output_type": "display_data"
    }
   ],
   "source": [
    "# must be set to comply with SEC regulations\n",
    "\n",
    "set_identity(\"Neal Lockhart nhl3388@uncw.edu\")"
   ]
  },
  {
   "cell_type": "code",
   "execution_count": 8,
   "metadata": {},
   "outputs": [],
   "source": [
    "companies = ['HUBS', 'SNOW', 'CRWD', 'ZS', 'NET', 'AMD', 'NVDA', 'BASE', 'NOW', 'S']"
   ]
  },
  {
   "cell_type": "code",
   "execution_count": 5,
   "metadata": {},
   "outputs": [],
   "source": [
    "def get_risk_sections(list_of_tickers):\n",
    "    risk_sections = {}\n",
    "\n",
    "    for ticker in list_of_tickers:\n",
    "        time.sleep(1)\n",
    "        tenk = Company(ticker).get_filings(form='10-K').latest(1)\n",
    "        tenk_html = tenk.html()\n",
    "        tenk_soup = BeautifulSoup(tenk_html, \"html.parser\")\n",
    "        risk_factors_header = tenk_soup.find(string=\"ITEM 1A. RISK FACTORS\")\n",
    "        current_element = risk_factors_header.find_parent(\"div\")\n",
    "\n",
    "        risk_text = []\n",
    "        while current_element:\n",
    "            next_element = current_element.find_next_sibling()\n",
    "\n",
    "            # Check if we've hit the next major section\n",
    "            if next_element and any(text.strip().startswith(\"ITEM \") \n",
    "                                for text in next_element.stripped_strings):\n",
    "                risk_sections[ticker] = ' '.join(risk_text)\n",
    "                break\n",
    "\n",
    "            if next_element:\n",
    "                risk_text.append(next_element.get_text(strip=True))\n",
    "                current_element = next_element\n",
    "\n",
    "            else:\n",
    "                print('something fucked up')\n",
    "                break\n",
    "\n",
    "    return risk_sections"
   ]
  },
  {
   "cell_type": "code",
   "execution_count": 57,
   "metadata": {},
   "outputs": [],
   "source": [
    "tenk = Company('NET').get_filings(form='10-K').latest(1)"
   ]
  },
  {
   "cell_type": "code",
   "execution_count": 58,
   "metadata": {},
   "outputs": [],
   "source": [
    "tenk_html = tenk.html()"
   ]
  },
  {
   "cell_type": "code",
   "execution_count": 59,
   "metadata": {},
   "outputs": [],
   "source": [
    "tenk_soup = BeautifulSoup(tenk_html, 'html')"
   ]
  },
  {
   "cell_type": "code",
   "execution_count": 62,
   "metadata": {},
   "outputs": [],
   "source": [
    "with open('html.txt', 'w') as f:\n",
    "    f.write(tenk_soup.get_text())"
   ]
  },
  {
   "cell_type": "code",
   "execution_count": 40,
   "metadata": {},
   "outputs": [],
   "source": [
    "risk_factors_header = tenk_soup.find(string=\"ITEM 1A. RISK FACTORS\")"
   ]
  },
  {
   "cell_type": "code",
   "execution_count": 42,
   "metadata": {},
   "outputs": [],
   "source": [
    "current_element = risk_factors_header.find_parent(\"div\")"
   ]
  },
  {
   "cell_type": "code",
   "execution_count": 46,
   "metadata": {},
   "outputs": [
    {
     "data": {
      "text/plain": [
       "<div style=\"text-align:justify;text-indent:18pt\"><span style=\"color:#000000;font-family:'Times New Roman',sans-serif;font-size:10pt;font-style:italic;font-weight:400;line-height:120%\">Our operations and financial results are subject to various risks and uncertainties, including those described below. You should consider and read carefully all of the risks and uncertainties described below, together with all of the other information contained in this Annual Report on Form 10-K, including the sections titled “Special Note about Forward-Looking Statements” and “Management’s Discussion and Analysis of Financial Condition and Results of Operations” and our consolidated financial statements and related notes, before making an investment decision. The risks described below are not the only ones we face. The occurrence of any of the following risks or additional risks and uncertainties not presently known to us or that we currently believe to be immaterial could materially and adversely affect our business, financial condition, results of operations, or growth prospects. In such case, the trading price of our common stock could decline. You should not interpret our disclosure of any of the following risks to imply that such risks have not already materialized.</span></div>"
      ]
     },
     "execution_count": 46,
     "metadata": {},
     "output_type": "execute_result"
    }
   ],
   "source": [
    "current_element.find_next_sibling()"
   ]
  },
  {
   "cell_type": "code",
   "execution_count": 32,
   "metadata": {},
   "outputs": [],
   "source": [
    "with open('html.txt', 'w') as f:\n",
    "    f.write(tenk_soup.get_text())"
   ]
  },
  {
   "cell_type": "code",
   "execution_count": 9,
   "metadata": {},
   "outputs": [
    {
     "ename": "AttributeError",
     "evalue": "'NoneType' object has no attribute 'find_parent'",
     "output_type": "error",
     "traceback": [
      "\u001b[0;31m---------------------------------------------------------------------------\u001b[0m",
      "\u001b[0;31mAttributeError\u001b[0m                            Traceback (most recent call last)",
      "Cell \u001b[0;32mIn[9], line 1\u001b[0m\n\u001b[0;32m----> 1\u001b[0m test \u001b[38;5;241m=\u001b[39m \u001b[43mget_risk_sections\u001b[49m\u001b[43m(\u001b[49m\u001b[43mcompanies\u001b[49m\u001b[43m)\u001b[49m\n",
      "Cell \u001b[0;32mIn[5], line 10\u001b[0m, in \u001b[0;36mget_risk_sections\u001b[0;34m(list_of_tickers)\u001b[0m\n\u001b[1;32m      8\u001b[0m tenk_soup \u001b[38;5;241m=\u001b[39m BeautifulSoup(tenk_html, \u001b[38;5;124m\"\u001b[39m\u001b[38;5;124mhtml.parser\u001b[39m\u001b[38;5;124m\"\u001b[39m)\n\u001b[1;32m      9\u001b[0m risk_factors_header \u001b[38;5;241m=\u001b[39m tenk_soup\u001b[38;5;241m.\u001b[39mfind(string\u001b[38;5;241m=\u001b[39m\u001b[38;5;124m\"\u001b[39m\u001b[38;5;124mITEM 1A. RISK FACTORS\u001b[39m\u001b[38;5;124m\"\u001b[39m)\n\u001b[0;32m---> 10\u001b[0m current_element \u001b[38;5;241m=\u001b[39m \u001b[43mrisk_factors_header\u001b[49m\u001b[38;5;241;43m.\u001b[39;49m\u001b[43mfind_parent\u001b[49m(\u001b[38;5;124m\"\u001b[39m\u001b[38;5;124mdiv\u001b[39m\u001b[38;5;124m\"\u001b[39m)\n\u001b[1;32m     12\u001b[0m risk_text \u001b[38;5;241m=\u001b[39m []\n\u001b[1;32m     13\u001b[0m \u001b[38;5;28;01mwhile\u001b[39;00m current_element:\n",
      "\u001b[0;31mAttributeError\u001b[0m: 'NoneType' object has no attribute 'find_parent'"
     ]
    }
   ],
   "source": [
    "test = get_risk_sections(companies)"
   ]
  }
 ],
 "metadata": {
  "kernelspec": {
   "display_name": "venv",
   "language": "python",
   "name": "python3"
  },
  "language_info": {
   "codemirror_mode": {
    "name": "ipython",
    "version": 3
   },
   "file_extension": ".py",
   "mimetype": "text/x-python",
   "name": "python",
   "nbconvert_exporter": "python",
   "pygments_lexer": "ipython3",
   "version": "3.12.2"
  }
 },
 "nbformat": 4,
 "nbformat_minor": 2
}
