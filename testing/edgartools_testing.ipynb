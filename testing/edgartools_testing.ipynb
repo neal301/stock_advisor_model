{
 "cells": [
  {
   "cell_type": "code",
   "execution_count": 1,
   "metadata": {},
   "outputs": [],
   "source": [
    "from edgar import set_identity\n",
    "import pandas as pd\n",
    "import time"
   ]
  },
  {
   "cell_type": "code",
   "execution_count": 2,
   "metadata": {},
   "outputs": [
    {
     "data": {
      "text/html": [
       "<pre style=\"white-space:pre;overflow-x:auto;line-height:normal;font-family:Menlo,'DejaVu Sans Mono',consolas,'Courier New',monospace\"><span style=\"color: #7fbfbf; text-decoration-color: #7fbfbf\">[13:51:15] </span><span style=\"color: #000080; text-decoration-color: #000080\">INFO    </span> Identity of the Edgar REST client set to <span style=\"font-weight: bold\">[</span>Neal Lockhart nhl3388@uncw.edu<span style=\"font-weight: bold\">]</span>           <a href=\"file:///home/neal/nealsfiles/stock_rag/stock_advisor_model/venv/lib/python3.12/site-packages/edgar/core.py\" target=\"_blank\"><span style=\"color: #7f7f7f; text-decoration-color: #7f7f7f\">core.py</span></a><span style=\"color: #7f7f7f; text-decoration-color: #7f7f7f\">:</span><a href=\"file:///home/neal/nealsfiles/stock_rag/stock_advisor_model/venv/lib/python3.12/site-packages/edgar/core.py#161\" target=\"_blank\"><span style=\"color: #7f7f7f; text-decoration-color: #7f7f7f\">161</span></a>\n",
       "</pre>\n"
      ],
      "text/plain": [
       "\u001b[2;36m[13:51:15]\u001b[0m\u001b[2;36m \u001b[0m\u001b[34mINFO    \u001b[0m Identity of the Edgar REST client set to \u001b[1m[\u001b[0mNeal Lockhart nhl3388@uncw.edu\u001b[1m]\u001b[0m           \u001b]8;id=856508;file:///home/neal/nealsfiles/stock_rag/stock_advisor_model/venv/lib/python3.12/site-packages/edgar/core.py\u001b\\\u001b[2mcore.py\u001b[0m\u001b]8;;\u001b\\\u001b[2m:\u001b[0m\u001b]8;id=475829;file:///home/neal/nealsfiles/stock_rag/stock_advisor_model/venv/lib/python3.12/site-packages/edgar/core.py#161\u001b\\\u001b[2m161\u001b[0m\u001b]8;;\u001b\\\n"
      ]
     },
     "metadata": {},
     "output_type": "display_data"
    }
   ],
   "source": [
    "# must be set to comply with SEC regulations\n",
    "\n",
    "set_identity(\"Neal Lockhart nhl3388@uncw.edu\")"
   ]
  },
  {
   "cell_type": "markdown",
   "metadata": {},
   "source": [
    "## Filings: 10-k\n",
    "\n",
    "### Markdown"
   ]
  },
  {
   "cell_type": "code",
   "execution_count": 32,
   "metadata": {},
   "outputs": [],
   "source": [
    "from edgar import *"
   ]
  },
  {
   "cell_type": "code",
   "execution_count": 33,
   "metadata": {},
   "outputs": [],
   "source": [
    "filings = Company(\"NOW\").get_filings(form=\"10-K\").latest(2)"
   ]
  },
  {
   "cell_type": "code",
   "execution_count": 34,
   "metadata": {},
   "outputs": [],
   "source": [
    "md = filings[0].sections()"
   ]
  },
  {
   "cell_type": "code",
   "execution_count": null,
   "metadata": {},
   "outputs": [],
   "source": [
    "def get_risk_sections(companies: list):\n",
    "\n",
    "    data = {\n",
    "        \"ticker\": [],\n",
    "        \"chunked_risk\": []\n",
    "    }\n",
    "    \n",
    "    for company in companies:\n",
    "        time.sleep(.1)\n",
    "        tenk = Company(company).get_filings(form=\"10-K\").latest(1)\n",
    "        raw_chunked_tenk = tenk.sections()\n",
    "        index_start = None\n",
    "        index_end = None\n",
    "        \n",
    "        for i in range(len(raw_chunked_tenk)):\n",
    "            if re.search(r\"item 1a.\\s*risk factors\", raw_chunked_tenk[i].lower()):\n",
    "                index_start=i\n",
    "            elif re.search(r\"item 1b.\\s*unresolved\", raw_chunked_tenk[i].lower()):\n",
    "                index_end=i\n",
    "                break\n",
    "\n",
    "        if index_start is None or index_end is None:\n",
    "            print(\"Warning: Could not find risk section for\", company)\n",
    "            continue\n",
    "        \n",
    "        risks = raw_chunked_tenk[index_start:index_end]\n",
    "\n",
    "        for i in range(len(risks)):\n",
    "            risks[i] = risks[i].lower()\n",
    "            risks[i] = risks[i].replace(\"\\n\",\" \")\n",
    "            risks[i] = risks[i].replace(\"•\", \" \")\n",
    "            risks[i] = risks[i].replace(\"table of contents\",\"\")\n",
    "            \n",
    "            data['ticker'].append(company)\n",
    "            data['chunked_risk'].append(risks[i])\n",
    "\n",
    "    return pd.DataFrame(data)"
   ]
  },
  {
   "cell_type": "code",
   "execution_count": 44,
   "metadata": {},
   "outputs": [],
   "source": [
    "companies = ['HUBS', 'SNOW', 'CRWD', 'ZS', 'NET', 'AMD', 'NVDA', 'BASE', 'NOW', 'S']\n",
    "\n",
    "df = get_risk_sections(companies)"
   ]
  },
  {
   "cell_type": "code",
   "execution_count": 45,
   "metadata": {},
   "outputs": [
    {
     "data": {
      "text/html": [
       "<div>\n",
       "<style scoped>\n",
       "    .dataframe tbody tr th:only-of-type {\n",
       "        vertical-align: middle;\n",
       "    }\n",
       "\n",
       "    .dataframe tbody tr th {\n",
       "        vertical-align: top;\n",
       "    }\n",
       "\n",
       "    .dataframe thead th {\n",
       "        text-align: right;\n",
       "    }\n",
       "</style>\n",
       "<table border=\"1\" class=\"dataframe\">\n",
       "  <thead>\n",
       "    <tr style=\"text-align: right;\">\n",
       "      <th></th>\n",
       "      <th>ticker</th>\n",
       "      <th>chunked_risk</th>\n",
       "    </tr>\n",
       "  </thead>\n",
       "  <tbody>\n",
       "    <tr>\n",
       "      <th>0</th>\n",
       "      <td>HUBS</td>\n",
       "      <td>item 1a. risk factors</td>\n",
       "    </tr>\n",
       "    <tr>\n",
       "      <th>1</th>\n",
       "      <td>HUBS</td>\n",
       "      <td>an investment in our common stock involves a h...</td>\n",
       "    </tr>\n",
       "    <tr>\n",
       "      <th>2</th>\n",
       "      <td>HUBS</td>\n",
       "      <td>risks related to our business and strategy  we...</td>\n",
       "    </tr>\n",
       "    <tr>\n",
       "      <th>3</th>\n",
       "      <td>HUBS</td>\n",
       "      <td>we derive, and expect to continue to derive, a...</td>\n",
       "    </tr>\n",
       "    <tr>\n",
       "      <th>4</th>\n",
       "      <td>HUBS</td>\n",
       "      <td>risks related to employee matters  if we canno...</td>\n",
       "    </tr>\n",
       "  </tbody>\n",
       "</table>\n",
       "</div>"
      ],
      "text/plain": [
       "  ticker                                       chunked_risk\n",
       "0   HUBS                              item 1a. risk factors\n",
       "1   HUBS  an investment in our common stock involves a h...\n",
       "2   HUBS  risks related to our business and strategy  we...\n",
       "3   HUBS  we derive, and expect to continue to derive, a...\n",
       "4   HUBS  risks related to employee matters  if we canno..."
      ]
     },
     "execution_count": 45,
     "metadata": {},
     "output_type": "execute_result"
    }
   ],
   "source": [
    "df.head()"
   ]
  },
  {
   "cell_type": "code",
   "execution_count": 58,
   "metadata": {},
   "outputs": [],
   "source": [
    "df.to_csv(\"../data/risk_sections.csv\", index=False)"
   ]
  },
  {
   "cell_type": "code",
   "execution_count": 53,
   "metadata": {},
   "outputs": [],
   "source": [
    "lens = df['chunked_risk'].apply(lambda x: len(x.split()))\n",
    "max_len = lens.idxmax()"
   ]
  },
  {
   "cell_type": "code",
   "execution_count": 56,
   "metadata": {},
   "outputs": [
    {
     "data": {
      "text/plain": [
       "13845"
      ]
     },
     "execution_count": 56,
     "metadata": {},
     "output_type": "execute_result"
    }
   ],
   "source": [
    "max(lens)"
   ]
  },
  {
   "cell_type": "code",
   "execution_count": 57,
   "metadata": {},
   "outputs": [
    {
     "data": {
      "text/plain": [
       "'S'"
      ]
     },
     "execution_count": 57,
     "metadata": {},
     "output_type": "execute_result"
    }
   ],
   "source": [
    "df.iloc[max_len]['ticker']"
   ]
  },
  {
   "cell_type": "code",
   "execution_count": null,
   "metadata": {},
   "outputs": [],
   "source": []
  }
 ],
 "metadata": {
  "kernelspec": {
   "display_name": "venv",
   "language": "python",
   "name": "python3"
  },
  "language_info": {
   "codemirror_mode": {
    "name": "ipython",
    "version": 3
   },
   "file_extension": ".py",
   "mimetype": "text/x-python",
   "name": "python",
   "nbconvert_exporter": "python",
   "pygments_lexer": "ipython3",
   "version": "3.12.2"
  }
 },
 "nbformat": 4,
 "nbformat_minor": 2
}
