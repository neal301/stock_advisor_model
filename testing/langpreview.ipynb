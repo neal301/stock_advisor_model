{
 "cells": [
  {
   "cell_type": "code",
   "execution_count": null,
   "id": "cdfd7930",
   "metadata": {},
   "outputs": [],
   "source": [
    "import requests\n",
    "import pandas as pd\n",
    "from bs4 import BeautifulSoup\n",
    "\n",
    "def get_10k_reports(ticker):\n",
    "    url = f\"https://www.sec.gov/cgi-bin/browse-edgar?action=getcompany&CIK={ticker}&type=10-K&dateb=&owner=exclude&count=100\"\n",
    "    headers = {\n",
    "        \"User-Agent\": \"Your Name or Company Name - contact@example.com\"\n",
    "    }\n",
    "\n",
    "    response = requests.get(url, headers=headers)\n",
    "    \n",
    "    if response.status_code != 200:\n",
    "        print(\"Error:\", response.status_code)\n",
    "        return None\n",
    "\n",
    "    # Parse the HTML\n",
    "    soup = BeautifulSoup(response.content, 'html.parser')\n",
    "\n",
    "    # Find the table containing the filings\n",
    "    filings_table = soup.find('table', class_='tableFile2')\n",
    "\n",
    "    # Initialize lists to store the extracted data\n",
    "    filing_dates = []\n",
    "    report_links = []\n",
    "    report_titles = []\n",
    "\n",
    "    # Loop through table rows to extract filing data\n",
    "    for row in filings_table.find_all('tr')[1:]:  # Skip the header row\n",
    "        cols = row.find_all('td')\n",
    "        if len(cols) > 0:\n",
    "            filing_date = cols[3].text.strip()  # Filing date\n",
    "            report_title = cols[2].text.strip()  # Filing title\n",
    "            report_link = 'https://www.sec.gov' + cols[2].find('a')['href']  # Report link\n",
    "\n",
    "            filing_dates.append(filing_date)\n",
    "            report_titles.append(report_title)\n",
    "            report_links.append(report_link)\n",
    "\n",
    "    # Create a DataFrame\n",
    "    df = pd.DataFrame({\n",
    "        'Filing Date': filing_dates,\n",
    "        'Report Title': report_titles,\n",
    "        'Report Link': report_links\n",
    "    })\n",
    "\n",
    "    return df\n",
    "\n",
    "# Example usage\n",
    "ticker = \"AAPL\"  # Apple Inc.\n",
    "df_10k_reports = get_10k_reports(ticker)\n",
    "\n",
    "if df_10k_reports is not None:\n",
    "    print(df_10k_reports)\n"
   ]
  },
  {
   "cell_type": "code",
   "execution_count": 23,
   "id": "5d7e8582",
   "metadata": {},
   "outputs": [],
   "source": [
    "import webbrowser"
   ]
  },
  {
   "cell_type": "code",
   "execution_count": 27,
   "id": "c9975004",
   "metadata": {},
   "outputs": [
    {
     "data": {
      "text/plain": [
       "'<!DOCTYPE HTML PUBLIC \"-//W3C//DTD HTML 4.01 Transitional//EN\" \"http://www.w3.org/TR/html4/loose.dtd\">\\n<html lang=\"ENG\">\\n<head>\\n<title>EDGAR Search Results</title>\\n<link href=\"/include/interactive.css\" rel=\"stylesheet\" type=\"text/css\" />\\n<link href=\"/edgar/search/css/smartSearchCompanyLanding.css\" rel=\"stylesheet\" type=\"text/css\" />\\n<script language=\"JavaScript\" src=\"/edgar/search/js/smartSearchCompanyLanding.js\" type=\"text/javascript\"></script>\\n<link rel=\"alternate\" type=\"application/atom+xml\" title=\"ATOM\" href=\"/cgi-bin/browse-edgar?action=getcompany&amp;CIK=0000320193&amp;type=10-K%25&amp;dateb=&amp;owner=exclude&amp;count=100&amp;output=atom\" />\\n\\n</head>\\n<body style=\"margin: 0\">\\n<!-- SEC Web Analytics - For information please visit: https://www.sec.gov/privacy.htm#collectedinfo -->\\n<noscript><iframe src=\"//www.googletagmanager.com/ns.html?id=GTM-TD3BKV\"\\nheight=\"0\" width=\"0\" style=\"display:none;visibility:hidden\"></iframe></noscript>\\n<script>(function(w,d,s,l,i){w[l]=w[l]||[];w[l].push({\\'gtm.start\\':\\nnew Date().getTime(),event:\\'gtm.js\\'});var f=d.getElementsByTagName(s)[0],\\nj=d.createElement(s),dl=l!=\\'dataLayer\\'?\\'&l=\\'+l:\\'\\';j.async=true;j.src=\\n\\'//www.googletagmanager.com/gtm.js?id=\\'+i+dl;f.parentNode.insertBefore(j,f);\\n})(window,document,\\'script\\',\\'dataLayer\\',\\'GTM-TD3BKV\\');</script>\\n<!-- End SEC Web Analytics -->\\n\\n<!-- BEGIN BANNER -->\\n<div id=\"headerTop\">\\n   <div id=\"Nav\"><a href=\"/index.htm\">Home</a> | <a href=\"/cgi-bin/browse-edgar?action=getcurrent\">Latest Filings</a> | <a href=\"javascript:history.back()\">Previous Page</a></div>\\n   <div id=\"seal\"><a href=\"/index.htm\"><img src=\"/images/sealTop.gif\" alt=\"SEC Seal\" border=\"0\" /></a></div>\\n   <div id=\"secWordGraphic\"><img src=\"/images/bannerTitle.gif\" alt=\"SEC Banner\" /></div>\\n</div>\\n<div id=\"headerBottom\">\\n<div id=\"secBetaGraphic\"><a href=\"https://www.sec.gov/EDGARfeedback#no-back\"><img src=\"/images/edgar_feedback-btu.jpg\" alt=\"EDGAR USA Search\" style=\"border-style: none\"/></a></div>   <div id=\"PageTitle\">EDGAR Search Results</div>\\n</div>\\n<!-- END BANNER -->\\n\\n\\n<!-- BEGIN BREADCRUMBS -->\\n<div id=\"breadCrumbs\">\\n   <ul>\\n      <li><a href=\"/index.htm\">SEC Home</a> &#187;</li>\\n      <li><a href=\"/edgar/searchedgar/webusers.htm\">Search the Next-Generation EDGAR System</a> &#187;</li>\\n      <li><a href=\"/edgar/searchedgar/companysearch.html\">Company Search</a> &#187;</li>\\n      <li class=\"last\">Current Page</li>\\n   </ul>\\n</div>\\n<!-- END BREADCRUMBS -->\\n\\n<div id=\"contentDiv\">\\n   <!-- START FILER DIV -->\\n   <div style=\"margin: 15px 0 10px 0; padding: 3px; overflow: hidden; background-color: #BCD6F8;\">\\n      <div class=\"mailer\">Mailing Address\\n         <span class=\"mailerAddress\">ONE APPLE PARK WAY</span>\\n         <span class=\"mailerAddress\">\\nCUPERTINO CA 95014         </span>\\n      </div>\\n      <div class=\"mailer\">Business Address\\n         <span class=\"mailerAddress\">ONE APPLE PARK WAY</span>\\n         <span class=\"mailerAddress\">\\nCUPERTINO CA 95014         </span>\\n         <span class=\"mailerAddress\">(408) 996-1010</span>\\n      </div>\\n      <div class=\"companyInfo\">\\n         <span class=\"companyName\">Apple Inc. <acronym title=\"Central Index Key\">CIK</acronym>#: <a href=\"/cgi-bin/browse-edgar?action=getcompany&amp;CIK=0000320193&amp;owner=exclude&amp;count=100\">0000320193 (see all company filings)</a></span>\\n         <p class=\"identInfo\"><acronym title=\"Standard Industrial Code\">SIC</acronym>: <a href=\"/cgi-bin/browse-edgar?action=getcompany&amp;SIC=3571&amp;owner=exclude&amp;count=100\">3571</a> - ELECTRONIC COMPUTERS<br />State location: <a href=\"/cgi-bin/browse-edgar?action=getcompany&amp;State=CA&amp;owner=exclude&amp;count=100\">CA</a> | State of Inc.: <strong>CA</strong> | Fiscal Year End: 0928<br />formerly: APPLE COMPUTER INC (filings through 2007-01-04)<br />formerly: APPLE COMPUTER INC/ FA (filings through 1997-07-28)<br />formerly: APPLE INC (filings through 2019-08-05)<br /><span>(CF Office: 06 Technology)<span><br />Get <a href=\"/cgi-bin/own-disp?action=getissuer&amp;CIK=0000320193\"><b>insider transactions</b></a> for this <b>issuer</b>.\\n</p>\\n      </div>\\n   </div>\\n   <div style=\"width: 100%;\">\\n      <form method=\"GET\" action=\"/cgi-bin/browse-edgar\">\\n         <input type=\"hidden\" name=\"action\" value=\"getcompany\">\\n         <input type=\"hidden\" name=\"CIK\" value=\"0000320193\">\\n         <table style=\"margin: 0px; background:#FFFFFF; border: 1px solid #BCD6F8; width: 100%;\">\\n            <tr>\\n            <tr>\\n                <td colspan=\"5\" class=\"filter-results-title\"><strong>Filter Results</strong></td>\\n                <td rowspan=\"2\" class=\"efts_form forms_separator\"><div></div></td>\\n                <td class=\"efts_form\"><strong>Search Within Files</strong> <img src=\"/edgar/search/images/edgar_full_text_search.png\" class=\"efts-logo-image\"></td>\\n            </tr>\\n            <tr>\\n               <td><label for=\"type\">Filing Type:</label><br /><input name=\"type\" size=\"10\" tabindex=\"1\" id=\"type\" value=\"10-K\"></td>\\n               <td><label for=\"prior_to\">Prior to:</label> (YYYYMMDD)<br /><input name=\"dateb\" size=\"10\" tabindex=\"2\" id=\"prior_to\" value=\"\"></td>\\n               <td>Ownership?<br /><input type=\"radio\" name=\"owner\" value=\"include\" id=\"include\" tabindex=\"3\"><label for=\"include\">include</label><input type=\"radio\" name=\"owner\" value=\"exclude\" id=\"exclude\" checked=\"checked\" tabindex=\"4\"><label for=\"exclude\">exclude</label><input type=\"radio\" name=\"owner\" value=\"only\" id=\"only\" tabindex=\"5\"/><label for=\"only\">only</label>\\n               <td><label for=\"count\">Limit Results Per Page</label><br />\\n\\t\\t\\t\\t\\t <select name=\"count\" id=\"count\" tabindex=\"6\">\\n                     <option value=\"10\" >10 Entries\\n                     <option value=\"20\" >20 Entries\\n                     <option value=\"40\" >40 Entries\\n                     <option value=\"80\" >80 Entries\\n                     <option value=\"100\"  selected>100 Entries\\n                  </select>\\n               </td>\\n               <td style=\"text-align: middle;\"><input type=\"submit\" value=\"Search\"><br /><input type=\"submit\" onClick=\"this.form.type.value=\\'\\'\" value=\"Show All\"></td>\\n                <td class=\"efts_form\">Enter keywords<br /><input name=\"search_text\" id=\"keywords\" class=\"smart-search\" type=\"text\"><button id=\"smart_search_execute_fts\" class=\"smart-search\">Search</button></td>\\n            </tr>\\n         </table>\\n      </form>\\n   </div>\\n<!-- END FILER DIV -->\\n   <div style=\"margin-top: 5px; margin-bottom: 5px;\">\\n      <form>\\n         <table border=\"0\" width=\"100%\">\\n            <tr>\\n               <td>Items 1 - 32&nbsp;&nbsp;<a href=\"/cgi-bin/browse-edgar?action=getcompany&amp;CIK=0000320193&amp;type=10-K%25&amp;dateb=&amp;owner=exclude&amp;start=0&amp;count=100&amp;output=atom\"><img src=\"/images/rss-feed-icon-14x14.png\" alt=\"0000320193 Filings\" border=\"0\" align=\"top\" /> RSS Feed</a></td>\\n            </tr>\\n         </table>\\n      </form>\\n   </div>\\n   <div id=\"seriesDiv\" style=\"margin-top: 0px;\">\\n      <table class=\"tableFile2\" summary=\"Results\">\\n         <tr>\\n            <th width=\"7%\" scope=\"col\">Filings</th>\\n            <th width=\"10%\" scope=\"col\">Format</th>\\n            <th scope=\"col\">Description</th>\\n            <th width=\"10%\" scope=\"col\">Filing Date</th>\\n            <th width=\"15%\" scope=\"col\">File/Film Number</th>\\n         </tr>\\n<tr>\\n<td nowrap=\"nowrap\">10-K</td>\\n<td nowrap=\"nowrap\"><a href=\"/Archives/edgar/data/320193/000032019323000106/0000320193-23-000106-index.htm\" id=\"documentsbutton\">&nbsp;Documents</a>&nbsp; <a href=\"/cgi-bin/viewer?action=view&amp;cik=320193&amp;accession_number=0000320193-23-000106&amp;xbrl_type=v\" id=\"interactiveDataBtn\">&nbsp;Interactive Data</a></td>\\n<td class=\"small\" >Annual report [Section 13 and 15(d), not S-K Item 405]<br />Acc-no: 0000320193-23-000106&nbsp;(34 Act)&nbsp; Size: 9 MB            </td>\\n            <td>2023-11-03</td>\\n            <td nowrap=\"nowrap\"><a href=\"/cgi-bin/browse-edgar?action=getcompany&amp;filenum=001-36743&amp;owner=exclude&amp;count=100\">001-36743</a><br>231373899         </td>\\n         </tr>\\n<tr class=\"blueRow\">\\n<td nowrap=\"nowrap\">10-K</td>\\n<td nowrap=\"nowrap\"><a href=\"/Archives/edgar/data/320193/000032019322000108/0000320193-22-000108-index.htm\" id=\"documentsbutton\">&nbsp;Documents</a>&nbsp; <a href=\"/cgi-bin/viewer?action=view&amp;cik=320193&amp;accession_number=0000320193-22-000108&amp;xbrl_type=v\" id=\"interactiveDataBtn\">&nbsp;Interactive Data</a></td>\\n<td class=\"small\" >Annual report [Section 13 and 15(d), not S-K Item 405]<br />Acc-no: 0000320193-22-000108&nbsp;(34 Act)&nbsp; Size: 10 MB            </td>\\n            <td>2022-10-28</td>\\n            <td nowrap=\"nowrap\"><a href=\"/cgi-bin/browse-edgar?action=getcompany&amp;filenum=001-36743&amp;owner=exclude&amp;count=100\">001-36743</a><br>221338448         </td>\\n         </tr>\\n<tr>\\n<td nowrap=\"nowrap\">10-K</td>\\n<td nowrap=\"nowrap\"><a href=\"/Archives/edgar/data/320193/000032019321000105/0000320193-21-000105-index.htm\" id=\"documentsbutton\">&nbsp;Documents</a>&nbsp; <a href=\"/cgi-bin/viewer?action=view&amp;cik=320193&amp;accession_number=0000320193-21-000105&amp;xbrl_type=v\" id=\"interactiveDataBtn\">&nbsp;Interactive Data</a></td>\\n<td class=\"small\" >Annual report [Section 13 and 15(d), not S-K Item 405]<br />Acc-no: 0000320193-21-000105&nbsp;(34 Act)&nbsp; Size: 10 MB            </td>\\n            <td>2021-10-29</td>\\n            <td nowrap=\"nowrap\"><a href=\"/cgi-bin/browse-edgar?action=getcompany&amp;filenum=001-36743&amp;owner=exclude&amp;count=100\">001-36743</a><br>211359752         </td>\\n         </tr>\\n<tr class=\"blueRow\">\\n<td nowrap=\"nowrap\">10-K</td>\\n<td nowrap=\"nowrap\"><a href=\"/Archives/edgar/data/320193/000032019320000096/0000320193-20-000096-index.htm\" id=\"documentsbutton\">&nbsp;Documents</a>&nbsp; <a href=\"/cgi-bin/viewer?action=view&amp;cik=320193&amp;accession_number=0000320193-20-000096&amp;xbrl_type=v\" id=\"interactiveDataBtn\">&nbsp;Interactive Data</a></td>\\n<td class=\"small\" >Annual report [Section 13 and 15(d), not S-K Item 405]<br />Acc-no: 0000320193-20-000096&nbsp;(34 Act)&nbsp; Size: 12 MB            </td>\\n            <td>2020-10-30</td>\\n            <td nowrap=\"nowrap\"><a href=\"/cgi-bin/browse-edgar?action=getcompany&amp;filenum=001-36743&amp;owner=exclude&amp;count=100\">001-36743</a><br>201273977         </td>\\n         </tr>\\n<tr>\\n<td nowrap=\"nowrap\">10-K</td>\\n<td nowrap=\"nowrap\"><a href=\"/Archives/edgar/data/320193/000032019319000119/0000320193-19-000119-index.htm\" id=\"documentsbutton\">&nbsp;Documents</a>&nbsp; <a href=\"/cgi-bin/viewer?action=view&amp;cik=320193&amp;accession_number=0000320193-19-000119&amp;xbrl_type=v\" id=\"interactiveDataBtn\">&nbsp;Interactive Data</a></td>\\n<td class=\"small\" >Annual report [Section 13 and 15(d), not S-K Item 405]<br />Acc-no: 0000320193-19-000119&nbsp;(34 Act)&nbsp; Size: 12 MB            </td>\\n            <td>2019-10-31</td>\\n            <td nowrap=\"nowrap\"><a href=\"/cgi-bin/browse-edgar?action=getcompany&amp;filenum=001-36743&amp;owner=exclude&amp;count=100\">001-36743</a><br>191181423         </td>\\n         </tr>\\n<tr class=\"blueRow\">\\n<td nowrap=\"nowrap\">10-K</td>\\n<td nowrap=\"nowrap\"><a href=\"/Archives/edgar/data/320193/000032019318000145/0000320193-18-000145-index.htm\" id=\"documentsbutton\">&nbsp;Documents</a>&nbsp; <a href=\"/cgi-bin/viewer?action=view&amp;cik=320193&amp;accession_number=0000320193-18-000145&amp;xbrl_type=v\" id=\"interactiveDataBtn\">&nbsp;Interactive Data</a></td>\\n<td class=\"small\" >Annual report [Section 13 and 15(d), not S-K Item 405]<br />Acc-no: 0000320193-18-000145&nbsp;(34 Act)&nbsp; Size: 12 MB            </td>\\n            <td>2018-11-05</td>\\n            <td nowrap=\"nowrap\"><a href=\"/cgi-bin/browse-edgar?action=getcompany&amp;filenum=001-36743&amp;owner=exclude&amp;count=100\">001-36743</a><br>181158788         </td>\\n         </tr>\\n<tr>\\n<td nowrap=\"nowrap\">10-K</td>\\n<td nowrap=\"nowrap\"><a href=\"/Archives/edgar/data/320193/000032019317000070/0000320193-17-000070-index.htm\" id=\"documentsbutton\">&nbsp;Documents</a>&nbsp; <a href=\"/cgi-bin/viewer?action=view&amp;cik=320193&amp;accession_number=0000320193-17-000070&amp;xbrl_type=v\" id=\"interactiveDataBtn\">&nbsp;Interactive Data</a></td>\\n<td class=\"small\" >Annual report [Section 13 and 15(d), not S-K Item 405]<br />Acc-no: 0000320193-17-000070&nbsp;(34 Act)&nbsp; Size: 14 MB            </td>\\n            <td>2017-11-03</td>\\n            <td nowrap=\"nowrap\"><a href=\"/cgi-bin/browse-edgar?action=getcompany&amp;filenum=001-36743&amp;owner=exclude&amp;count=100\">001-36743</a><br>171174673         </td>\\n         </tr>\\n<tr class=\"blueRow\">\\n<td nowrap=\"nowrap\">10-K</td>\\n<td nowrap=\"nowrap\"><a href=\"/Archives/edgar/data/320193/000162828016020309/0001628280-16-020309-index.htm\" id=\"documentsbutton\">&nbsp;Documents</a>&nbsp; <a href=\"/cgi-bin/viewer?action=view&amp;cik=320193&amp;accession_number=0001628280-16-020309&amp;xbrl_type=v\" id=\"interactiveDataBtn\">&nbsp;Interactive Data</a></td>\\n<td class=\"small\" >Annual report [Section 13 and 15(d), not S-K Item 405]<br />Acc-no: 0001628280-16-020309&nbsp;(34 Act)&nbsp; Size: 13 MB            </td>\\n            <td>2016-10-26</td>\\n            <td nowrap=\"nowrap\"><a href=\"/cgi-bin/browse-edgar?action=getcompany&amp;filenum=001-36743&amp;owner=exclude&amp;count=100\">001-36743</a><br>161953070         </td>\\n         </tr>\\n<tr>\\n<td nowrap=\"nowrap\">10-K</td>\\n<td nowrap=\"nowrap\"><a href=\"/Archives/edgar/data/320193/000119312515356351/0001193125-15-356351-index.htm\" id=\"documentsbutton\">&nbsp;Documents</a>&nbsp; <a href=\"/cgi-bin/viewer?action=view&amp;cik=320193&amp;accession_number=0001193125-15-356351&amp;xbrl_type=v\" id=\"interactiveDataBtn\">&nbsp;Interactive Data</a></td>\\n<td class=\"small\" >Annual report [Section 13 and 15(d), not S-K Item 405]<br />Acc-no: 0001193125-15-356351&nbsp;(34 Act)&nbsp; Size: 9 MB            </td>\\n            <td>2015-10-28</td>\\n            <td nowrap=\"nowrap\"><a href=\"/cgi-bin/browse-edgar?action=getcompany&amp;filenum=001-36743&amp;owner=exclude&amp;count=100\">001-36743</a><br>151180619         </td>\\n         </tr>\\n<tr class=\"blueRow\">\\n<td nowrap=\"nowrap\">10-K</td>\\n<td nowrap=\"nowrap\"><a href=\"/Archives/edgar/data/320193/000119312514383437/0001193125-14-383437-index.htm\" id=\"documentsbutton\">&nbsp;Documents</a>&nbsp; <a href=\"/cgi-bin/viewer?action=view&amp;cik=320193&amp;accession_number=0001193125-14-383437&amp;xbrl_type=v\" id=\"interactiveDataBtn\">&nbsp;Interactive Data</a></td>\\n<td class=\"small\" >Annual report [Section 13 and 15(d), not S-K Item 405]<br />Acc-no: 0001193125-14-383437&nbsp;(34 Act)&nbsp; Size: 12 MB            </td>\\n            <td>2014-10-27</td>\\n            <td nowrap=\"nowrap\"><a href=\"/cgi-bin/browse-edgar?action=getcompany&amp;filenum=000-10030&amp;owner=exclude&amp;count=100\">000-10030</a><br>141175110         </td>\\n         </tr>\\n<tr>\\n<td nowrap=\"nowrap\">10-K</td>\\n<td nowrap=\"nowrap\"><a href=\"/Archives/edgar/data/320193/000119312513416534/0001193125-13-416534-index.htm\" id=\"documentsbutton\">&nbsp;Documents</a>&nbsp; <a href=\"/cgi-bin/viewer?action=view&amp;cik=320193&amp;accession_number=0001193125-13-416534&amp;xbrl_type=v\" id=\"interactiveDataBtn\">&nbsp;Interactive Data</a></td>\\n<td class=\"small\" >Annual report [Section 13 and 15(d), not S-K Item 405]<br />Acc-no: 0001193125-13-416534&nbsp;(34 Act)&nbsp; Size: 11 MB            </td>\\n            <td>2013-10-30</td>\\n            <td nowrap=\"nowrap\"><a href=\"/cgi-bin/browse-edgar?action=getcompany&amp;filenum=000-10030&amp;owner=exclude&amp;count=100\">000-10030</a><br>131177575         </td>\\n         </tr>\\n<tr class=\"blueRow\">\\n<td nowrap=\"nowrap\">10-K</td>\\n<td nowrap=\"nowrap\"><a href=\"/Archives/edgar/data/320193/000119312512444068/0001193125-12-444068-index.htm\" id=\"documentsbutton\">&nbsp;Documents</a>&nbsp; <a href=\"/cgi-bin/viewer?action=view&amp;cik=320193&amp;accession_number=0001193125-12-444068&amp;xbrl_type=v\" id=\"interactiveDataBtn\">&nbsp;Interactive Data</a></td>\\n<td class=\"small\" >Annual report [Section 13 and 15(d), not S-K Item 405]<br />Acc-no: 0001193125-12-444068&nbsp;(34 Act)&nbsp; Size: 9 MB            </td>\\n            <td>2012-10-31</td>\\n            <td nowrap=\"nowrap\"><a href=\"/cgi-bin/browse-edgar?action=getcompany&amp;filenum=000-10030&amp;owner=exclude&amp;count=100\">000-10030</a><br>121171452         </td>\\n         </tr>\\n<tr>\\n<td nowrap=\"nowrap\">10-K</td>\\n<td nowrap=\"nowrap\"><a href=\"/Archives/edgar/data/320193/000119312511282113/0001193125-11-282113-index.htm\" id=\"documentsbutton\">&nbsp;Documents</a>&nbsp; <a href=\"/cgi-bin/viewer?action=view&amp;cik=320193&amp;accession_number=0001193125-11-282113&amp;xbrl_type=v\" id=\"interactiveDataBtn\">&nbsp;Interactive Data</a></td>\\n<td class=\"small\" >Annual report [Section 13 and 15(d), not S-K Item 405]<br />Acc-no: 0001193125-11-282113&nbsp;(34 Act)&nbsp; Size: 9 MB            </td>\\n            <td>2011-10-26</td>\\n            <td nowrap=\"nowrap\"><a href=\"/cgi-bin/browse-edgar?action=getcompany&amp;filenum=000-10030&amp;owner=exclude&amp;count=100\">000-10030</a><br>111159350         </td>\\n         </tr>\\n<tr class=\"blueRow\">\\n<td nowrap=\"nowrap\">10-K</td>\\n<td nowrap=\"nowrap\"><a href=\"/Archives/edgar/data/320193/000119312510238044/0001193125-10-238044-index.htm\" id=\"documentsbutton\">&nbsp;Documents</a>&nbsp; <a href=\"/cgi-bin/viewer?action=view&amp;cik=320193&amp;accession_number=0001193125-10-238044&amp;xbrl_type=v\" id=\"interactiveDataBtn\">&nbsp;Interactive Data</a></td>\\n<td class=\"small\" >Annual report [Section 13 and 15(d), not S-K Item 405]<br />Acc-no: 0001193125-10-238044&nbsp;(34 Act)&nbsp; Size: 13 MB            </td>\\n            <td>2010-10-27</td>\\n            <td nowrap=\"nowrap\"><a href=\"/cgi-bin/browse-edgar?action=getcompany&amp;filenum=000-10030&amp;owner=exclude&amp;count=100\">000-10030</a><br>101145250         </td>\\n         </tr>\\n<tr>\\n<td nowrap=\"nowrap\">10-K/A</td>\\n<td nowrap=\"nowrap\"><a href=\"/Archives/edgar/data/320193/000119312510012091/0001193125-10-012091-index.htm\" id=\"documentsbutton\">&nbsp;Documents</a>&nbsp; <a href=\"/cgi-bin/viewer?action=view&amp;cik=320193&amp;accession_number=0001193125-10-012091&amp;xbrl_type=v\" id=\"interactiveDataBtn\">&nbsp;Interactive Data</a></td>\\n<td class=\"small\" ><b>[Amend]</b> Annual report [Section 13 and 15(d), not S-K Item 405]<br />Acc-no: 0001193125-10-012091&nbsp;(34 Act)&nbsp; Size: 5 MB            </td>\\n            <td>2010-01-25</td>\\n            <td nowrap=\"nowrap\"><a href=\"/cgi-bin/browse-edgar?action=getcompany&amp;filenum=000-10030&amp;owner=exclude&amp;count=100\">000-10030</a><br>10545024         </td>\\n         </tr>\\n<tr class=\"blueRow\">\\n<td nowrap=\"nowrap\">10-K</td>\\n<td nowrap=\"nowrap\"><a href=\"/Archives/edgar/data/320193/000119312509214859/0001193125-09-214859-index.htm\" id=\"documentsbutton\">&nbsp;Documents</a>&nbsp; <a href=\"/cgi-bin/viewer?action=view&amp;cik=320193&amp;accession_number=0001193125-09-214859&amp;xbrl_type=v\" id=\"interactiveDataBtn\">&nbsp;Interactive Data</a></td>\\n<td class=\"small\" >Annual report [Section 13 and 15(d), not S-K Item 405]<br />Acc-no: 0001193125-09-214859&nbsp;(34 Act)&nbsp; Size: 3 MB            </td>\\n            <td>2009-10-27</td>\\n            <td nowrap=\"nowrap\"><a href=\"/cgi-bin/browse-edgar?action=getcompany&amp;filenum=000-10030&amp;owner=exclude&amp;count=100\">000-10030</a><br>091139493         </td>\\n         </tr>\\n<tr>\\n<td nowrap=\"nowrap\">10-K</td>\\n<td nowrap=\"nowrap\"><a href=\"/Archives/edgar/data/320193/000119312508224958/0001193125-08-224958-index.htm\" id=\"documentsbutton\">&nbsp;Documents</a></td>\\n<td class=\"small\" >Annual report [Section 13 and 15(d), not S-K Item 405]<br />Acc-no: 0001193125-08-224958&nbsp;(34 Act)&nbsp; Size: 1 MB            </td>\\n            <td>2008-11-05</td>\\n            <td nowrap=\"nowrap\"><a href=\"/cgi-bin/browse-edgar?action=getcompany&amp;filenum=000-10030&amp;owner=exclude&amp;count=100\">000-10030</a><br>081162315         </td>\\n         </tr>\\n<tr class=\"blueRow\">\\n<td nowrap=\"nowrap\">10-K</td>\\n<td nowrap=\"nowrap\"><a href=\"/Archives/edgar/data/320193/000104746907009340/0001047469-07-009340-index.htm\" id=\"documentsbutton\">&nbsp;Documents</a></td>\\n<td class=\"small\" >Annual report [Section 13 and 15(d), not S-K Item 405]<br />Acc-no: 0001047469-07-009340&nbsp;(34 Act)&nbsp; Size: 1 MB            </td>\\n            <td>2007-11-15</td>\\n            <td nowrap=\"nowrap\"><a href=\"/cgi-bin/browse-edgar?action=getcompany&amp;filenum=000-10030&amp;owner=exclude&amp;count=100\">000-10030</a><br>071250316         </td>\\n         </tr>\\n<tr>\\n<td nowrap=\"nowrap\">10-K</td>\\n<td nowrap=\"nowrap\"><a href=\"/Archives/edgar/data/320193/000110465906084288/0001104659-06-084288-index.htm\" id=\"documentsbutton\">&nbsp;Documents</a></td>\\n<td class=\"small\" >Annual report [Section 13 and 15(d), not S-K Item 405]<br />Acc-no: 0001104659-06-084288&nbsp;(34 Act)&nbsp; Size: 4 MB            </td>\\n            <td>2006-12-29</td>\\n            <td nowrap=\"nowrap\"><a href=\"/cgi-bin/browse-edgar?action=getcompany&amp;filenum=000-10030&amp;owner=exclude&amp;count=100\">000-10030</a><br>061304002         </td>\\n         </tr>\\n<tr class=\"blueRow\">\\n<td nowrap=\"nowrap\">10-K</td>\\n<td nowrap=\"nowrap\"><a href=\"/Archives/edgar/data/320193/000110465905058421/0001104659-05-058421-index.htm\" id=\"documentsbutton\">&nbsp;Documents</a></td>\\n<td class=\"small\" >Annual report [Section 13 and 15(d), not S-K Item 405]<br />Acc-no: 0001104659-05-058421&nbsp;(34 Act)&nbsp; Size: 3 MB            </td>\\n            <td>2005-12-01</td>\\n            <td nowrap=\"nowrap\"><a href=\"/cgi-bin/browse-edgar?action=getcompany&amp;filenum=000-10030&amp;owner=exclude&amp;count=100\">000-10030</a><br>051235812         </td>\\n         </tr>\\n<tr>\\n<td nowrap=\"nowrap\">10-K</td>\\n<td nowrap=\"nowrap\"><a href=\"/Archives/edgar/data/320193/000104746904035975/0001047469-04-035975-index.htm\" id=\"documentsbutton\">&nbsp;Documents</a></td>\\n<td class=\"small\" >Annual report [Section 13 and 15(d), not S-K Item 405]<br />Acc-no: 0001047469-04-035975&nbsp;(34 Act)&nbsp; Size: 966 KB            </td>\\n            <td>2004-12-03</td>\\n            <td nowrap=\"nowrap\"><a href=\"/cgi-bin/browse-edgar?action=getcompany&amp;filenum=000-10030&amp;owner=exclude&amp;count=100\">000-10030</a><br>041181605         </td>\\n         </tr>\\n<tr class=\"blueRow\">\\n<td nowrap=\"nowrap\">10-K</td>\\n<td nowrap=\"nowrap\"><a href=\"/Archives/edgar/data/320193/000104746903041604/0001047469-03-041604-index.htm\" id=\"documentsbutton\">&nbsp;Documents</a></td>\\n<td class=\"small\" >Annual report [Section 13 and 15(d), not S-K Item 405]<br />Acc-no: 0001047469-03-041604 Size: 2 MB            </td>\\n            <td>2003-12-19</td>\\n            <td nowrap=\"nowrap\"><a href=\"/cgi-bin/browse-edgar?action=getcompany&amp;filenum=000-10030&amp;owner=exclude&amp;count=100\">000-10030</a><br>031066037         </td>\\n         </tr>\\n<tr>\\n<td nowrap=\"nowrap\">10-K</td>\\n<td nowrap=\"nowrap\"><a href=\"/Archives/edgar/data/320193/000104746902007674/0001047469-02-007674-index.htm\" id=\"documentsbutton\">&nbsp;Documents</a></td>\\n<td class=\"small\" >Annual report [Section 13 and 15(d), not S-K Item 405]<br />Acc-no: 0001047469-02-007674 Size: 895 KB            </td>\\n            <td>2002-12-19</td>\\n            <td nowrap=\"nowrap\"><a href=\"/cgi-bin/browse-edgar?action=getcompany&amp;filenum=000-10030&amp;owner=exclude&amp;count=100\">000-10030</a><br>02863602         </td>\\n         </tr>\\n<tr class=\"blueRow\">\\n<td nowrap=\"nowrap\">10-K405</td>\\n<td nowrap=\"nowrap\"><a href=\"/Archives/edgar/data/320193/000091205701544436/0000912057-01-544436-index.htm\" id=\"documentsbutton\">&nbsp;Documents</a></td>\\n<td class=\"small\" >Annual report [Sections 13 and 15(d), S-K Item 405]<br />Acc-no: 0000912057-01-544436 Size: 791 KB            </td>\\n            <td>2001-12-21</td>\\n            <td nowrap=\"nowrap\"><a href=\"/cgi-bin/browse-edgar?action=getcompany&amp;filenum=000-10030&amp;owner=exclude&amp;count=100\">000-10030</a><br>1821603         </td>\\n         </tr>\\n<tr>\\n<td nowrap=\"nowrap\">10-K</td>\\n<td nowrap=\"nowrap\"><a href=\"/Archives/edgar/data/320193/000091205700053623/0000912057-00-053623-index.htm\" id=\"documentsbutton\">&nbsp;Documents</a></td>\\n<td class=\"small\" >Annual report [Section 13 and 15(d), not S-K Item 405]<br />Acc-no: 0000912057-00-053623 Size: 310 KB            </td>\\n            <td>2000-12-14</td>\\n            <td nowrap=\"nowrap\"><a href=\"/cgi-bin/browse-edgar?action=getcompany&amp;filenum=000-10030&amp;owner=exclude&amp;count=100\">000-10030</a><br>789406         </td>\\n         </tr>\\n<tr class=\"blueRow\">\\n<td nowrap=\"nowrap\">10-K</td>\\n<td nowrap=\"nowrap\"><a href=\"/Archives/edgar/data/320193/0000912057-99-010244-index.html\" id=\"documentsbutton\">&nbsp;Documents</a></td>\\n<td class=\"small\" >Annual report [Section 13 and 15(d), not S-K Item 405]<br />Acc-no: 0000912057-99-010244 Size: 502 KB            </td>\\n            <td>1999-12-22</td>\\n            <td nowrap=\"nowrap\"><a href=\"/cgi-bin/browse-edgar?action=getcompany&amp;filenum=000-10030&amp;owner=exclude&amp;count=100\">000-10030</a><br>99778628         </td>\\n         </tr>\\n<tr>\\n<td nowrap=\"nowrap\">10-K405</td>\\n<td nowrap=\"nowrap\"><a href=\"/Archives/edgar/data/320193/0001047469-98-044981-index.html\" id=\"documentsbutton\">&nbsp;Documents</a></td>\\n<td class=\"small\" >Annual report [Sections 13 and 15(d), S-K Item 405]<br />Acc-no: 0001047469-98-044981 Size: 341 KB            </td>\\n            <td>1998-12-23</td>\\n            <td nowrap=\"nowrap\"><a href=\"/cgi-bin/browse-edgar?action=getcompany&amp;filenum=000-10030&amp;owner=exclude&amp;count=100\">000-10030</a><br>98774868         </td>\\n         </tr>\\n<tr class=\"blueRow\">\\n<td nowrap=\"nowrap\">10-K/A</td>\\n<td nowrap=\"nowrap\"><a href=\"/Archives/edgar/data/320193/0001047469-98-001822-index.html\" id=\"documentsbutton\">&nbsp;Documents</a></td>\\n<td class=\"small\" ><b>[Amend]</b> Annual report [Section 13 and 15(d), not S-K Item 405]<br />Acc-no: 0001047469-98-001822 Size: 51 KB            </td>\\n            <td>1998-01-23</td>\\n            <td nowrap=\"nowrap\"><a href=\"/cgi-bin/browse-edgar?action=getcompany&amp;filenum=000-10030&amp;owner=exclude&amp;count=100\">000-10030</a><br>98511354         </td>\\n         </tr>\\n<tr>\\n<td nowrap=\"nowrap\">10-K</td>\\n<td nowrap=\"nowrap\"><a href=\"/Archives/edgar/data/320193/0001047469-97-006960-index.html\" id=\"documentsbutton\">&nbsp;Documents</a></td>\\n<td class=\"small\" >Annual report [Section 13 and 15(d), not S-K Item 405]<br />Acc-no: 0001047469-97-006960 Size: 639 KB            </td>\\n            <td>1997-12-05</td>\\n            <td nowrap=\"nowrap\"><a href=\"/cgi-bin/browse-edgar?action=getcompany&amp;filenum=000-10030&amp;owner=exclude&amp;count=100\">000-10030</a><br>97733413         </td>\\n         </tr>\\n<tr class=\"blueRow\">\\n<td nowrap=\"nowrap\">10-K</td>\\n<td nowrap=\"nowrap\"><a href=\"/Archives/edgar/data/320193/0000320193-96-000023-index.html\" id=\"documentsbutton\">&nbsp;Documents</a></td>\\n<td class=\"small\" >Annual report [Section 13 and 15(d), not S-K Item 405]<br />Acc-no: 0000320193-96-000023 Size: 271 KB            </td>\\n            <td>1996-12-19</td>\\n            <td nowrap=\"nowrap\"><a href=\"/cgi-bin/browse-edgar?action=getcompany&amp;filenum=000-10030&amp;owner=exclude&amp;count=100\">000-10030</a><br>96683426         </td>\\n         </tr>\\n<tr>\\n<td nowrap=\"nowrap\">10-K</td>\\n<td nowrap=\"nowrap\"><a href=\"/Archives/edgar/data/320193/0000320193-95-000016-index.html\" id=\"documentsbutton\">&nbsp;Documents</a></td>\\n<td class=\"small\" >Annual report [Section 13 and 15(d), not S-K Item 405]<br />Acc-no: 0000320193-95-000016 Size: 232 KB            </td>\\n            <td>1995-12-19</td>\\n            <td nowrap=\"nowrap\"><a href=\"/cgi-bin/browse-edgar?action=getcompany&amp;filenum=000-10030&amp;owner=exclude&amp;count=100\">000-10030</a><br>95602696         </td>\\n         </tr>\\n<tr class=\"blueRow\">\\n<td nowrap=\"nowrap\">10-K</td>\\n<td nowrap=\"nowrap\"><a href=\"/Archives/edgar/data/320193/0000320193-94-000016-index.html\" id=\"documentsbutton\">&nbsp;Documents</a></td>\\n<td class=\"small\" >Annual report [Section 13 and 15(d), not S-K Item 405]<br />Acc-no: 0000320193-94-000016 Size: 240 KB            </td>\\n            <td>1994-12-13</td>\\n            <td nowrap=\"nowrap\"><a href=\"/cgi-bin/browse-edgar?action=getcompany&amp;filenum=000-10030&amp;owner=exclude&amp;count=100\">000-10030</a><br>94564347         </td>\\n         </tr>\\n      </table>\\n   </div>\\n</div>\\n\\n<!-- BEGIN FOOTER -->\\n<div id=\"footer\">\\n  <div class=\"currentURL\">https://www.sec.gov/cgi-bin/browse-edgar</div>\\n  <div class=\"links\"><a href=\"/index.htm\">Home</a> | <a href=\"/edgar/searchedgar/webusers.htm\">Search the Next-Generation EDGAR System</a> | <a href=\"javascript:history.back()\">Previous Page</a></div>\\n  <div class=\"modified\">Modified 07/18/2014</div>\\n</div>\\n<!-- END FOOTER -->\\n\\n</body>\\n</html>\\n'"
      ]
     },
     "metadata": {},
     "output_type": "display_data"
    }
   ],
   "source": [
    "import requests\n",
    "\n",
    "def get_10k_reports(ticker):\n",
    "    url = f\"https://www.sec.gov/cgi-bin/browse-edgar?action=getcompany&CIK={ticker}&type=10-K&dateb=&owner=exclude&count=100\"\n",
    "    headers = {\n",
    "        \"User-Agent\": \"Daniel Whiteley - dcw1981@uncw.edu\"\n",
    "    }\n",
    "    \n",
    "    response = requests.get(url, headers=headers)\n",
    "    if response.status_code == 200:\n",
    "        return response.text\n",
    "    else:\n",
    "        print(\"Error:\", response.status_code)\n",
    "\n",
    "# Example usage\n",
    "ticker = \"AAPL\"  # Apple Inc.\n",
    "reports_html = get_10k_reports(ticker)\n",
    "display(reports_html)  # This will print the HTML content of the filings page\n"
   ]
  },
  {
   "cell_type": "code",
   "execution_count": 28,
   "id": "76f925fb",
   "metadata": {},
   "outputs": [],
   "source": [
    "import os\n",
    "\n",
    "os.environ[\"AZURE_OPENAI_API_KEY\"]=\"b229fdc63a3d4b06b4adcc67660474f3\"\n",
    "os.environ[\"AZURE_OPENAI_ENDPOINT\"]=\"https://openai-541.openai.azure.com/\""
   ]
  },
  {
   "cell_type": "code",
   "execution_count": 29,
   "id": "b6767aba",
   "metadata": {},
   "outputs": [],
   "source": [
    "from langchain_openai import AzureChatOpenAI\n",
    "\n",
    "llm = AzureChatOpenAI(\n",
    "    azure_deployment=\"gpt-35-turbo\",  # or your deployment\n",
    "    api_version=\"2024-07-01-preview\",  # or your api version\n",
    "    temperature=0,\n",
    "    max_tokens=None,\n",
    "    timeout=None,\n",
    "    max_retries=2,\n",
    ")"
   ]
  },
  {
   "cell_type": "code",
   "execution_count": 30,
   "id": "73724507",
   "metadata": {},
   "outputs": [],
   "source": [
    "from langchain_openai import AzureOpenAIEmbeddings\n",
    "\n",
    "embeddings = AzureOpenAIEmbeddings(\n",
    "    model=\"text-embedding-3-small\",\n",
    "    azure_endpoint='https://aiall9596864698.cognitiveservices.azure.com/openai/deployments/text-embedding-3-small/embeddings?api-version=2023-05-15',\n",
    "    api_key='6d440529fad24ffc8aef6d5f9ef52593',\n",
    "    openai_api_version=\"2024-07-01-preview\"\n",
    ")"
   ]
  },
  {
   "cell_type": "code",
   "execution_count": 31,
   "id": "44b915d5",
   "metadata": {},
   "outputs": [],
   "source": [
    "single_vector = embeddings.embed_query('Sample embedding')"
   ]
  },
  {
   "cell_type": "code",
   "execution_count": 32,
   "id": "de7e1f33",
   "metadata": {},
   "outputs": [
    {
     "data": {
      "text/plain": [
       "1536"
      ]
     },
     "execution_count": 32,
     "metadata": {},
     "output_type": "execute_result"
    }
   ],
   "source": [
    "len(single_vector)"
   ]
  },
  {
   "cell_type": "code",
   "execution_count": 33,
   "id": "9631f95c",
   "metadata": {},
   "outputs": [
    {
     "data": {
      "text/plain": [
       "AIMessage(content='Oh, hi there! Elmo sees that there are a lot of problems with your pull request. First of all, there are some bad file paths that need to be fixed. Elmo also noticed that the code is very messy and hard to read. And there are some errors that need to be fixed too. Elmo thinks that you need to take some time to clean up your code and make sure everything is in the right place. Remember, good code is important for everyone to understand and use!', additional_kwargs={'refusal': None}, response_metadata={'token_usage': {'completion_tokens': 101, 'prompt_tokens': 62, 'total_tokens': 163, 'completion_tokens_details': None, 'prompt_tokens_details': None}, 'model_name': 'gpt-35-turbo', 'system_fingerprint': None, 'prompt_filter_results': [{'prompt_index': 0, 'content_filter_results': {}}], 'finish_reason': 'stop', 'logprobs': None, 'content_filter_results': {'hate': {'filtered': False, 'severity': 'safe'}, 'protected_material_code': {'filtered': False, 'detected': False}, 'protected_material_text': {'filtered': False, 'detected': False}, 'self_harm': {'filtered': False, 'severity': 'safe'}, 'sexual': {'filtered': False, 'severity': 'safe'}, 'violence': {'filtered': False, 'severity': 'safe'}}}, id='run-c104e5a0-fe44-4ead-9ae1-fca94143617d-0', usage_metadata={'input_tokens': 62, 'output_tokens': 101, 'total_tokens': 163, 'input_token_details': {}, 'output_token_details': {}})"
      ]
     },
     "execution_count": 33,
     "metadata": {},
     "output_type": "execute_result"
    }
   ],
   "source": [
    "messages = [\n",
    "    (\n",
    "        \"system\",\n",
    "        \"You are my manager giving feedback on a terrible pull request I've just submitted full of bad file paths, messy code, and errors.  Respond as if you were Elmo from Sesame Street.\",\n",
    "    ),\n",
    "    (\"human\", \"What exactly is wrong with my pull request?\"),\n",
    "]\n",
    "ai_msg = llm.invoke(messages)\n",
    "ai_msg"
   ]
  }
 ],
 "metadata": {
  "kernelspec": {
   "display_name": "Python 3",
   "language": "python",
   "name": "python3"
  },
  "language_info": {
   "codemirror_mode": {
    "name": "ipython",
    "version": 3
   },
   "file_extension": ".py",
   "mimetype": "text/x-python",
   "name": "python",
   "nbconvert_exporter": "python",
   "pygments_lexer": "ipython3",
   "version": "undefined.undefined.undefined"
  },
  "toc": {
   "base_numbering": 1,
   "nav_menu": {},
   "number_sections": true,
   "sideBar": true,
   "skip_h1_title": false,
   "title_cell": "Table of Contents",
   "title_sidebar": "Contents",
   "toc_cell": false,
   "toc_position": {},
   "toc_section_display": true,
   "toc_window_display": false
  },
  "varInspector": {
   "cols": {
    "lenName": 16,
    "lenType": 16,
    "lenVar": 40
   },
   "kernels_config": {
    "python": {
     "delete_cmd_postfix": "",
     "delete_cmd_prefix": "del ",
     "library": "var_list.py",
     "varRefreshCmd": "print(var_dic_list())"
    },
    "r": {
     "delete_cmd_postfix": ") ",
     "delete_cmd_prefix": "rm(",
     "library": "var_list.r",
     "varRefreshCmd": "cat(var_dic_list()) "
    }
   },
   "types_to_exclude": [
    "module",
    "function",
    "builtin_function_or_method",
    "instance",
    "_Feature"
   ],
   "window_display": false
  }
 },
 "nbformat": 4,
 "nbformat_minor": 5
}
