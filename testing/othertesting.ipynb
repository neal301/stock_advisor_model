{
 "cells": [
  {
   "cell_type": "code",
   "execution_count": 9,
   "metadata": {},
   "outputs": [],
   "source": [
    "import pandas as pd\n",
    "\n",
    "# Sample data\n",
    "identifiers = [f'ID_{i+1}' for i in range(20)]\n",
    "names = [f'Name_{i+1}' for i in range(20)]\n",
    "childhood_paragraphs = [\n",
    "    \"Name_1 grew up in a small town surrounded by nature. As a child, they loved exploring the woods and building forts with friends. Their parents encouraged creativity, often taking them to local art fairs and teaching them how to paint.\",\n",
    "    \"Name_2 had a lively childhood filled with music and laughter. They spent weekends at their grandmother's house, where they learned to play the piano. Family gatherings were filled with sing-alongs and stories from older relatives.\",\n",
    "    \"Name_3 was a curious child, always asking questions about the world. They loved reading books and often spent hours at the library, imagining adventures in far-off lands. Their inquisitive nature led them to become a passionate learner.\",\n",
    "    \"Name_4 grew up in a bustling city, where they enjoyed the vibrancy of urban life. They loved visiting local parks and museums, fostering a love for history and art from a young age. Friends were always nearby for spontaneous adventures.\",\n",
    "    \"Name_5 was an adventurous spirit, often seen climbing trees or riding bikes around the neighborhood. They had a close-knit group of friends, and together they created their own little world filled with imagination and laughter.\",\n",
    "    \"Name_6 was raised in a family that valued education. They often accompanied their parents to various cultural events, sparking an early interest in learning about different cultures and traditions from around the world.\",\n",
    "    \"Name_7 had a playful childhood filled with sports and outdoor activities. They spent most weekends playing soccer with friends and dreaming of becoming a professional athlete, inspired by local heroes.\",\n",
    "    \"Name_8 enjoyed a quiet childhood in the countryside, surrounded by fields and animals. They learned responsibility at an early age by helping on the family farm and developed a deep appreciation for nature.\",\n",
    "    \"Name_9 was a bit of a dreamer, often lost in their thoughts. They loved writing stories and would create elaborate tales inspired by their daily life and imagination, much to the delight of their teachers.\",\n",
    "    \"Name_10 grew up with a passion for science, often conducting small experiments at home. Their parents supported their curiosity, and they frequently visited science museums and planetariums.\",\n",
    "    \"Name_11 had a multicultural upbringing, celebrating various traditions from their parents' backgrounds. This exposure enriched their childhood and fostered a sense of inclusivity and respect for diversity.\",\n",
    "    \"Name_12 was always surrounded by books, as their family had a small library at home. This love for reading opened up a world of imagination and creativity, influencing their future pursuits.\",\n",
    "    \"Name_13 enjoyed a whimsical childhood, filled with imaginary friends and adventures. They would spend hours creating stories and acting them out, laying the groundwork for a future in storytelling.\",\n",
    "    \"Name_14 was passionate about art from a young age, often found sketching or painting. They received encouragement from their family, who recognized their talent and nurtured it through classes and workshops.\",\n",
    "    \"Name_15 grew up in a busy household, where laughter and chaos were the norms. They learned to navigate challenges and find joy in everyday moments, which shaped their resilient character.\",\n",
    "    \"Name_16 had a nurturing childhood, marked by family gatherings and strong connections. They learned the importance of community and kindness, values that continue to guide them.\",\n",
    "    \"Name_17 spent many summers at their uncle's farm, where they learned about hard work and the value of nature. This experience instilled a sense of responsibility and a love for the outdoors.\",\n",
    "    \"Name_18 enjoyed a tech-savvy upbringing, growing up alongside the rise of the internet. They were always fascinated by computers and would often tinker with gadgets, paving the way for a future in technology.\",\n",
    "    \"Name_19 had a compassionate upbringing, where helping others was emphasized. Volunteering at local charities with their family instilled a sense of empathy and a desire to make a positive impact.\",\n",
    "    \"Name_20 had a unique childhood, growing up in a traveling family. They experienced different cultures and landscapes, which broadened their horizons and fostered a deep appreciation for diversity.\"\n",
    "]\n",
    "\n",
    "# Create the DataFrame\n",
    "df = pd.DataFrame({\n",
    "    'Identifier': identifiers,\n",
    "    'Name': names,\n",
    "    'Childhood Description': childhood_paragraphs\n",
    "})\n",
    "\n",
    "#writing to csv\n",
    "df.to_csv('childhood_memories.csv', index=False)"
   ]
  },
  {
   "cell_type": "code",
   "execution_count": 10,
   "metadata": {},
   "outputs": [
    {
     "name": "stdout",
     "output_type": "stream",
     "text": [
      "page_content='Identifier: ID_1\n",
      "Name: Name_1\n",
      "Childhood Description: Name_1 grew up in a small town surrounded by nature. As a child, they loved exploring the woods and building forts with friends. Their parents encouraged creativity, often taking them to local art fairs and teaching them how to paint.' metadata={'source': 'childhood_memories.csv', 'row': 0}\n",
      "page_content='Identifier: ID_2\n",
      "Name: Name_2\n",
      "Childhood Description: Name_2 had a lively childhood filled with music and laughter. They spent weekends at their grandmother's house, where they learned to play the piano. Family gatherings were filled with sing-alongs and stories from older relatives.' metadata={'source': 'childhood_memories.csv', 'row': 1}\n"
     ]
    }
   ],
   "source": [
    "from langchain_community.document_loaders.csv_loader import CSVLoader\n",
    "\n",
    "file_path = ('childhood_memories.csv')\n",
    "\n",
    "loader = CSVLoader(file_path=file_path)\n",
    "data = loader.load()\n",
    "\n",
    "for record in data[:2]:\n",
    "    print(record)"
   ]
  },
  {
   "cell_type": "code",
   "execution_count": 18,
   "metadata": {},
   "outputs": [
    {
     "name": "stdout",
     "output_type": "stream",
     "text": [
      "page_content='Identifier: ID_1\n",
      "Name: Name_1' metadata={'source': 'childhood_memories.csv', 'row': 0}\n",
      "page_content='Childhood Description: Name_1 grew up in a small town surrounded by nature. As a child, they loved' metadata={'source': 'childhood_memories.csv', 'row': 0}\n",
      "page_content='a child, they loved exploring the woods and building forts with friends. Their parents encouraged' metadata={'source': 'childhood_memories.csv', 'row': 0}\n",
      "page_content='parents encouraged creativity, often taking them to local art fairs and teaching them how to paint.' metadata={'source': 'childhood_memories.csv', 'row': 0}\n",
      "page_content='Identifier: ID_2\n",
      "Name: Name_2' metadata={'source': 'childhood_memories.csv', 'row': 1}\n",
      "page_content='Childhood Description: Name_2 had a lively childhood filled with music and laughter. They spent' metadata={'source': 'childhood_memories.csv', 'row': 1}\n",
      "page_content='They spent weekends at their grandmother's house, where they learned to play the piano. Family' metadata={'source': 'childhood_memories.csv', 'row': 1}\n",
      "page_content='the piano. Family gatherings were filled with sing-alongs and stories from older relatives.' metadata={'source': 'childhood_memories.csv', 'row': 1}\n",
      "page_content='Identifier: ID_3\n",
      "Name: Name_3' metadata={'source': 'childhood_memories.csv', 'row': 2}\n",
      "page_content='Childhood Description: Name_3 was a curious child, always asking questions about the world. They' metadata={'source': 'childhood_memories.csv', 'row': 2}\n",
      "page_content='the world. They loved reading books and often spent hours at the library, imagining adventures in' metadata={'source': 'childhood_memories.csv', 'row': 2}\n",
      "page_content='adventures in far-off lands. Their inquisitive nature led them to become a passionate learner.' metadata={'source': 'childhood_memories.csv', 'row': 2}\n",
      "page_content='Identifier: ID_4\n",
      "Name: Name_4' metadata={'source': 'childhood_memories.csv', 'row': 3}\n",
      "page_content='Childhood Description: Name_4 grew up in a bustling city, where they enjoyed the vibrancy of urban' metadata={'source': 'childhood_memories.csv', 'row': 3}\n",
      "page_content='vibrancy of urban life. They loved visiting local parks and museums, fostering a love for history' metadata={'source': 'childhood_memories.csv', 'row': 3}\n",
      "page_content='a love for history and art from a young age. Friends were always nearby for spontaneous adventures.' metadata={'source': 'childhood_memories.csv', 'row': 3}\n",
      "page_content='Identifier: ID_5\n",
      "Name: Name_5' metadata={'source': 'childhood_memories.csv', 'row': 4}\n",
      "page_content='Childhood Description: Name_5 was an adventurous spirit, often seen climbing trees or riding bikes' metadata={'source': 'childhood_memories.csv', 'row': 4}\n",
      "page_content='or riding bikes around the neighborhood. They had a close-knit group of friends, and together they' metadata={'source': 'childhood_memories.csv', 'row': 4}\n",
      "page_content='and together they created their own little world filled with imagination and laughter.' metadata={'source': 'childhood_memories.csv', 'row': 4}\n"
     ]
    }
   ],
   "source": [
    "from langchain_text_splitters import RecursiveCharacterTextSplitter\n",
    "\n",
    "text_splitter = RecursiveCharacterTextSplitter(\n",
    "    # Set a really small chunk size, just to show.\n",
    "    chunk_size=100,\n",
    "    chunk_overlap=20,\n",
    "    length_function=len,\n",
    "    is_separator_regex=False,\n",
    ")\n",
    "\n",
    "texts=text_splitter.split_documents(data)\n",
    "\n",
    "for text in texts[:20]:\n",
    "    print(text)\n"
   ]
  },
  {
   "cell_type": "code",
   "execution_count": 19,
   "metadata": {},
   "outputs": [],
   "source": [
    "from langchain_core.embeddings import FakeEmbeddings\n",
    "\n",
    "embeddings = FakeEmbeddings(size=4096)"
   ]
  },
  {
   "cell_type": "code",
   "execution_count": 21,
   "metadata": {},
   "outputs": [],
   "source": [
    "from langchain_chroma import Chroma\n",
    "\n",
    "vector_store = Chroma(\n",
    "    collection_name=\"my_collection\",\n",
    "    embedding_function=embeddings,\n",
    "    persist_directory=\"./chroma_langchain_db\",\n",
    ")"
   ]
  },
  {
   "cell_type": "code",
   "execution_count": 23,
   "metadata": {},
   "outputs": [
    {
     "data": {
      "text/plain": [
       "['e0710d99-8784-4fde-bee9-667cd23e3c8e',\n",
       " '6ffae748-8cc1-4bcd-8ef9-2c18819593f2',\n",
       " '17620c13-8223-4e40-9859-ac6120deb8ec',\n",
       " 'ee8496ab-a68b-4e6b-bc33-8d48d5c522ea',\n",
       " '29c1cb37-5983-44b2-bb94-6adfeb49ea39',\n",
       " '96ffa700-db3a-4b81-a481-f4e23f157ca1',\n",
       " 'adce377f-1bb6-4255-8d63-a7f897446a98',\n",
       " '2e8d2c85-abec-44b4-a2cb-d762a2e86797',\n",
       " '727d366b-f36a-478a-8539-d41aa36b46fe',\n",
       " '4b97b1f2-2334-481a-9232-88ca5619cb50',\n",
       " '326429be-8e54-412c-babc-c98162c64734',\n",
       " '65008ff9-6b3b-404f-9f82-65b125b093bf',\n",
       " 'bb46bac1-f25b-4d59-aa9a-1d6c062162ce',\n",
       " '4a46e120-c98c-465a-bf4e-e283ab8386d4',\n",
       " '9ead8e98-dd14-43b2-ab8d-a29f3db62316',\n",
       " 'c2398a2f-408c-462d-bd83-7470d319efe2',\n",
       " 'f9db2ebd-d140-4846-b025-e68515484a2e',\n",
       " '025054f2-6892-4e7f-83f6-ffef8f2c7a73',\n",
       " '68dd2f18-0bb3-45ba-a4c3-87a075098dc9',\n",
       " '8c9aa074-6867-4128-9b84-81b94528a0e3']"
      ]
     },
     "execution_count": 23,
     "metadata": {},
     "output_type": "execute_result"
    }
   ],
   "source": [
    "from uuid import uuid4\n",
    "uuids = [str(uuid4()) for _ in range(len(data))]\n",
    "\n",
    "\n",
    "vector_store.add_documents(documents=data, ids=uuids)"
   ]
  }
 ],
 "metadata": {
  "kernelspec": {
   "display_name": "Python 3",
   "language": "python",
   "name": "python3"
  },
  "language_info": {
   "codemirror_mode": {
    "name": "ipython",
    "version": 3
   },
   "file_extension": ".py",
   "mimetype": "text/x-python",
   "name": "python",
   "nbconvert_exporter": "python",
   "pygments_lexer": "ipython3",
   "version": "undefined.undefined.undefined"
  }
 },
 "nbformat": 4,
 "nbformat_minor": 2
}
